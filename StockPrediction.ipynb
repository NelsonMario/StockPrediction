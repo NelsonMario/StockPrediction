{
  "nbformat": 4,
  "nbformat_minor": 0,
  "metadata": {
    "colab": {
      "name": "StockPrediction.ipynb",
      "provenance": [],
      "collapsed_sections": []
    },
    "kernelspec": {
      "name": "python3",
      "display_name": "Python 3"
    }
  },
  "cells": [
    {
      "cell_type": "code",
      "metadata": {
        "id": "U1DW-t8WpL4G"
      },
      "source": [
        "import pandas_datareader as pdr\r\n",
        "import pandas as pd\r\n",
        "import datetime\r\n",
        "import matplotlib.pyplot as plt"
      ],
      "execution_count": 1,
      "outputs": []
    },
    {
      "cell_type": "code",
      "metadata": {
        "id": "_9UtJGD1stS-"
      },
      "source": [
        "#get data from 2018-10-07 until today\r\n",
        "\r\n",
        "start = datetime.datetime(2015, 5, 27)\r\n",
        "end = datetime.date.today()\r\n",
        "stock = 'wskt.jk'"
      ],
      "execution_count": 71,
      "outputs": []
    },
    {
      "cell_type": "code",
      "metadata": {
        "id": "nY12O45OrCu7"
      },
      "source": [
        "stock_data = pdr.DataReader(stock, 'yahoo', start, end)\r\n",
        "df=stock_data.reset_index()['Close']"
      ],
      "execution_count": 72,
      "outputs": []
    },
    {
      "cell_type": "code",
      "metadata": {
        "colab": {
          "base_uri": "https://localhost:8080/",
          "height": 235
        },
        "id": "Obf3D-zBFGeD",
        "outputId": "8a64c8b9-4f71-4ee1-f9a3-181745112fcf"
      },
      "source": [
        "stock_data.tail()"
      ],
      "execution_count": 45,
      "outputs": [
        {
          "output_type": "execute_result",
          "data": {
            "text/html": [
              "<div>\n",
              "<style scoped>\n",
              "    .dataframe tbody tr th:only-of-type {\n",
              "        vertical-align: middle;\n",
              "    }\n",
              "\n",
              "    .dataframe tbody tr th {\n",
              "        vertical-align: top;\n",
              "    }\n",
              "\n",
              "    .dataframe thead th {\n",
              "        text-align: right;\n",
              "    }\n",
              "</style>\n",
              "<table border=\"1\" class=\"dataframe\">\n",
              "  <thead>\n",
              "    <tr style=\"text-align: right;\">\n",
              "      <th></th>\n",
              "      <th>High</th>\n",
              "      <th>Low</th>\n",
              "      <th>Open</th>\n",
              "      <th>Close</th>\n",
              "      <th>Volume</th>\n",
              "      <th>Adj Close</th>\n",
              "    </tr>\n",
              "    <tr>\n",
              "      <th>Date</th>\n",
              "      <th></th>\n",
              "      <th></th>\n",
              "      <th></th>\n",
              "      <th></th>\n",
              "      <th></th>\n",
              "      <th></th>\n",
              "    </tr>\n",
              "  </thead>\n",
              "  <tbody>\n",
              "    <tr>\n",
              "      <th>2021-01-04</th>\n",
              "      <td>5500.0</td>\n",
              "      <td>5000.0</td>\n",
              "      <td>5200.0</td>\n",
              "      <td>5500.0</td>\n",
              "      <td>34467200.0</td>\n",
              "      <td>5500.0</td>\n",
              "    </tr>\n",
              "    <tr>\n",
              "      <th>2021-01-05</th>\n",
              "      <td>5825.0</td>\n",
              "      <td>5400.0</td>\n",
              "      <td>5500.0</td>\n",
              "      <td>5750.0</td>\n",
              "      <td>66285900.0</td>\n",
              "      <td>5750.0</td>\n",
              "    </tr>\n",
              "    <tr>\n",
              "      <th>2021-01-06</th>\n",
              "      <td>5875.0</td>\n",
              "      <td>5375.0</td>\n",
              "      <td>5850.0</td>\n",
              "      <td>5800.0</td>\n",
              "      <td>42312200.0</td>\n",
              "      <td>5800.0</td>\n",
              "    </tr>\n",
              "    <tr>\n",
              "      <th>2021-01-07</th>\n",
              "      <td>6950.0</td>\n",
              "      <td>5850.0</td>\n",
              "      <td>5900.0</td>\n",
              "      <td>6575.0</td>\n",
              "      <td>142914600.0</td>\n",
              "      <td>6575.0</td>\n",
              "    </tr>\n",
              "    <tr>\n",
              "      <th>2021-01-08</th>\n",
              "      <td>7000.0</td>\n",
              "      <td>6475.0</td>\n",
              "      <td>6650.0</td>\n",
              "      <td>6500.0</td>\n",
              "      <td>80518500.0</td>\n",
              "      <td>6500.0</td>\n",
              "    </tr>\n",
              "  </tbody>\n",
              "</table>\n",
              "</div>"
            ],
            "text/plain": [
              "              High     Low    Open   Close       Volume  Adj Close\n",
              "Date                                                              \n",
              "2021-01-04  5500.0  5000.0  5200.0  5500.0   34467200.0     5500.0\n",
              "2021-01-05  5825.0  5400.0  5500.0  5750.0   66285900.0     5750.0\n",
              "2021-01-06  5875.0  5375.0  5850.0  5800.0   42312200.0     5800.0\n",
              "2021-01-07  6950.0  5850.0  5900.0  6575.0  142914600.0     6575.0\n",
              "2021-01-08  7000.0  6475.0  6650.0  6500.0   80518500.0     6500.0"
            ]
          },
          "metadata": {
            "tags": []
          },
          "execution_count": 45
        }
      ]
    },
    {
      "cell_type": "code",
      "metadata": {
        "colab": {
          "base_uri": "https://localhost:8080/"
        },
        "id": "ZCj4C6yRR5aO",
        "outputId": "c7b3fc8d-c980-4a21-de33-96ce126bc360"
      },
      "source": [
        "len(stock_data)"
      ],
      "execution_count": 46,
      "outputs": [
        {
          "output_type": "execute_result",
          "data": {
            "text/plain": [
              "1409"
            ]
          },
          "metadata": {
            "tags": []
          },
          "execution_count": 46
        }
      ]
    },
    {
      "cell_type": "code",
      "metadata": {
        "colab": {
          "base_uri": "https://localhost:8080/",
          "height": 282
        },
        "id": "j9GxwYsFGTcU",
        "outputId": "2d1477b2-e8a9-4674-c52b-10184acd0195"
      },
      "source": [
        "plt.plot(df)"
      ],
      "execution_count": 73,
      "outputs": [
        {
          "output_type": "execute_result",
          "data": {
            "text/plain": [
              "[<matplotlib.lines.Line2D at 0x7fb4af63bc88>]"
            ]
          },
          "metadata": {
            "tags": []
          },
          "execution_count": 73
        },
        {
          "output_type": "display_data",
          "data": {
            "image/png": "[encoded data removed]",
            "text/plain": [
              "<Figure size 432x288 with 1 Axes>"
            ]
          },
          "metadata": {
            "tags": [],
            "needs_background": "light"
          }
        }
      ]
    },
    {
      "cell_type": "code",
      "metadata": {
        "id": "AiQIh2qCyfTd"
      },
      "source": [
        "import numpy as np\r\n",
        "from sklearn.preprocessing import MinMaxScaler"
      ],
      "execution_count": 74,
      "outputs": []
    },
    {
      "cell_type": "code",
      "metadata": {
        "id": "2JE-O2Yk0z0Y"
      },
      "source": [
        "#scale the data between 0, 1 using MinMaxScaler\r\n",
        "#LSTM are very sensitive to the scale of data\r\n",
        "\r\n",
        "scaler = MinMaxScaler(feature_range=(0,1))\r\n",
        "df = scaler.fit_transform(np.array(df).reshape(-1,1))"
      ],
      "execution_count": 75,
      "outputs": []
    },
    {
      "cell_type": "code",
      "metadata": {
        "id": "nlMnb4La09-Q"
      },
      "source": [
        "#splitting data into train and test\r\n",
        "training_size = int(len(df)*0.65)\r\n",
        "test_size = len(df)-training_size \r\n",
        "train_data, test_data = df[0:training_size, :], df[training_size:len(df), :1]"
      ],
      "execution_count": 76,
      "outputs": []
    },
    {
      "cell_type": "code",
      "metadata": {
        "id": "BlzrTC7q2eXJ"
      },
      "source": [
        "import numpy as np\r\n",
        "\r\n",
        "#convert an array values into a matrix\r\n",
        "#for example\r\n",
        "# 1 2 3 4 5 6 1 2 3 4 5\r\n",
        "# we will get the values in range from 1 to 3 and the next values will be the predicted output \r\n",
        "# dataX       dataY\r\n",
        "# 1,2,3       4\r\n",
        "# 2,3,4       4\r\n",
        "# and so on....\r\n",
        "\r\n",
        "def create_dataset(dataset, temp_step=1):\r\n",
        "  dataX, dataY = [], []\r\n",
        "  for i in range(len(dataset)-time_step-1):\r\n",
        "    a = dataset[i:(i+time_step), 0]\r\n",
        "    dataX.append(a)\r\n",
        "    dataY.append(dataset[i+time_step, 0])\r\n",
        "  return np.array(dataX), np.array(dataY)"
      ],
      "execution_count": 77,
      "outputs": []
    },
    {
      "cell_type": "code",
      "metadata": {
        "id": "HbCiyXEY4bk8"
      },
      "source": [
        "#reshape into X = t, t+1, t+2, t+3, and Y = t+4\r\n",
        "time_step = 100\r\n",
        "X_train, y_train = create_dataset(train_data, time_step)\r\n",
        "X_test, y_test = create_dataset(test_data, time_step)"
      ],
      "execution_count": 78,
      "outputs": []
    },
    {
      "cell_type": "code",
      "metadata": {
        "id": "s65jL9Vq5bJy"
      },
      "source": [
        "#reshape input to be [samples, time steps, features] which is required for LSTM\r\n",
        "X_train = X_train.reshape(X_train.shape[0], X_train.shape[1], 1)\r\n",
        "X_test = X_test.reshape(X_test.shape[0], X_test.shape[1], 1)"
      ],
      "execution_count": 79,
      "outputs": []
    },
    {
      "cell_type": "code",
      "metadata": {
        "id": "A4A8hjI-90NO"
      },
      "source": [
        "#Create the LSTM model\r\n",
        "from tensorflow.keras.models import Sequential\r\n",
        "from tensorflow.keras.layers import Dense\r\n",
        "from tensorflow.keras.layers import LSTM"
      ],
      "execution_count": 80,
      "outputs": []
    },
    {
      "cell_type": "code",
      "metadata": {
        "id": "FcB-9_cO_IvO"
      },
      "source": [
        "model = Sequential()\r\n",
        "model.add(LSTM(50, return_sequences=True, input_shape=(100, 1)))\r\n",
        "model.add(LSTM(50, return_sequences=True))\r\n",
        "model.add(LSTM(50))\r\n",
        "model.add(Dense(1))\r\n",
        "model.compile(loss='mean_squared_error', optimizer='adam')"
      ],
      "execution_count": 81,
      "outputs": []
    },
    {
      "cell_type": "code",
      "metadata": {
        "colab": {
          "base_uri": "https://localhost:8080/"
        },
        "id": "2Ywjp3sTBLX-",
        "outputId": "072abb5f-1783-4502-aecb-0683345fd968"
      },
      "source": [
        "model.summary()"
      ],
      "execution_count": 82,
      "outputs": [
        {
          "output_type": "stream",
          "text": [
            "Model: \"sequential_2\"\n",
            "_________________________________________________________________\n",
            "Layer (type)                 Output Shape              Param #   \n",
            "=================================================================\n",
            "lstm_6 (LSTM)                (None, 100, 50)           10400     \n",
            "_________________________________________________________________\n",
            "lstm_7 (LSTM)                (None, 100, 50)           20200     \n",
            "_________________________________________________________________\n",
            "lstm_8 (LSTM)                (None, 50)                20200     \n",
            "_________________________________________________________________\n",
            "dense_2 (Dense)              (None, 1)                 51        \n",
            "=================================================================\n",
            "Total params: 50,851\n",
            "Trainable params: 50,851\n",
            "Non-trainable params: 0\n",
            "_________________________________________________________________\n"
          ],
          "name": "stdout"
        }
      ]
    },
    {
      "cell_type": "code",
      "metadata": {
        "colab": {
          "base_uri": "https://localhost:8080/"
        },
        "id": "GOHlO6MoBv6C",
        "outputId": "0c4fa3d4-4500-4111-e006-588a93bb681a"
      },
      "source": [
        "model.fit(X_train, y_train, validation_data=(X_test, y_test), epochs=100, batch_size=64, verbose=1)"
      ],
      "execution_count": 83,
      "outputs": [
        {
          "output_type": "stream",
          "text": [
            "Epoch 1/100\n",
            "13/13 [==============================] - 8s 268ms/step - loss: 0.1914 - val_loss: 0.0078\n",
            "Epoch 2/100\n",
            "13/13 [==============================] - 2s 184ms/step - loss: 0.0181 - val_loss: 0.0242\n",
            "Epoch 3/100\n",
            "13/13 [==============================] - 2s 189ms/step - loss: 0.0055 - val_loss: 0.0206\n",
            "Epoch 4/100\n",
            "13/13 [==============================] - 2s 185ms/step - loss: 0.0046 - val_loss: 0.0128\n",
            "Epoch 5/100\n",
            "13/13 [==============================] - 2s 184ms/step - loss: 0.0039 - val_loss: 0.0124\n",
            "Epoch 6/100\n",
            "13/13 [==============================] - 2s 184ms/step - loss: 0.0034 - val_loss: 0.0114\n",
            "Epoch 7/100\n",
            "13/13 [==============================] - 2s 186ms/step - loss: 0.0030 - val_loss: 0.0082\n",
            "Epoch 8/100\n",
            "13/13 [==============================] - 2s 189ms/step - loss: 0.0029 - val_loss: 0.0071\n",
            "Epoch 9/100\n",
            "13/13 [==============================] - 2s 189ms/step - loss: 0.0027 - val_loss: 0.0060\n",
            "Epoch 10/100\n",
            "13/13 [==============================] - 2s 186ms/step - loss: 0.0026 - val_loss: 0.0051\n",
            "Epoch 11/100\n",
            "13/13 [==============================] - 2s 183ms/step - loss: 0.0027 - val_loss: 0.0045\n",
            "Epoch 12/100\n",
            "13/13 [==============================] - 2s 185ms/step - loss: 0.0023 - val_loss: 0.0048\n",
            "Epoch 13/100\n",
            "13/13 [==============================] - 2s 185ms/step - loss: 0.0024 - val_loss: 0.0045\n",
            "Epoch 14/100\n",
            "13/13 [==============================] - 2s 185ms/step - loss: 0.0025 - val_loss: 0.0047\n",
            "Epoch 15/100\n",
            "13/13 [==============================] - 2s 189ms/step - loss: 0.0024 - val_loss: 0.0047\n",
            "Epoch 16/100\n",
            "13/13 [==============================] - 2s 185ms/step - loss: 0.0024 - val_loss: 0.0039\n",
            "Epoch 17/100\n",
            "13/13 [==============================] - 2s 194ms/step - loss: 0.0021 - val_loss: 0.0042\n",
            "Epoch 18/100\n",
            "13/13 [==============================] - 2s 186ms/step - loss: 0.0023 - val_loss: 0.0037\n",
            "Epoch 19/100\n",
            "13/13 [==============================] - 2s 186ms/step - loss: 0.0022 - val_loss: 0.0037\n",
            "Epoch 20/100\n",
            "13/13 [==============================] - 2s 193ms/step - loss: 0.0022 - val_loss: 0.0047\n",
            "Epoch 21/100\n",
            "13/13 [==============================] - 2s 188ms/step - loss: 0.0020 - val_loss: 0.0039\n",
            "Epoch 22/100\n",
            "13/13 [==============================] - 2s 190ms/step - loss: 0.0020 - val_loss: 0.0034\n",
            "Epoch 23/100\n",
            "13/13 [==============================] - 2s 187ms/step - loss: 0.0019 - val_loss: 0.0039\n",
            "Epoch 24/100\n",
            "13/13 [==============================] - 2s 189ms/step - loss: 0.0018 - val_loss: 0.0038\n",
            "Epoch 25/100\n",
            "13/13 [==============================] - 2s 194ms/step - loss: 0.0017 - val_loss: 0.0039\n",
            "Epoch 26/100\n",
            "13/13 [==============================] - 2s 185ms/step - loss: 0.0019 - val_loss: 0.0032\n",
            "Epoch 27/100\n",
            "13/13 [==============================] - 2s 188ms/step - loss: 0.0019 - val_loss: 0.0028\n",
            "Epoch 28/100\n",
            "13/13 [==============================] - 2s 188ms/step - loss: 0.0016 - val_loss: 0.0034\n",
            "Epoch 29/100\n",
            "13/13 [==============================] - 2s 186ms/step - loss: 0.0016 - val_loss: 0.0033\n",
            "Epoch 30/100\n",
            "13/13 [==============================] - 2s 187ms/step - loss: 0.0014 - val_loss: 0.0030\n",
            "Epoch 31/100\n",
            "13/13 [==============================] - 2s 187ms/step - loss: 0.0015 - val_loss: 0.0026\n",
            "Epoch 32/100\n",
            "13/13 [==============================] - 2s 190ms/step - loss: 0.0015 - val_loss: 0.0028\n",
            "Epoch 33/100\n",
            "13/13 [==============================] - 2s 192ms/step - loss: 0.0015 - val_loss: 0.0024\n",
            "Epoch 34/100\n",
            "13/13 [==============================] - 2s 185ms/step - loss: 0.0016 - val_loss: 0.0023\n",
            "Epoch 35/100\n",
            "13/13 [==============================] - 2s 186ms/step - loss: 0.0015 - val_loss: 0.0024\n",
            "Epoch 36/100\n",
            "13/13 [==============================] - 2s 186ms/step - loss: 0.0014 - val_loss: 0.0024\n",
            "Epoch 37/100\n",
            "13/13 [==============================] - 2s 193ms/step - loss: 0.0015 - val_loss: 0.0024\n",
            "Epoch 38/100\n",
            "13/13 [==============================] - 2s 189ms/step - loss: 0.0013 - val_loss: 0.0026\n",
            "Epoch 39/100\n",
            "13/13 [==============================] - 2s 188ms/step - loss: 0.0015 - val_loss: 0.0026\n",
            "Epoch 40/100\n",
            "13/13 [==============================] - 2s 185ms/step - loss: 0.0013 - val_loss: 0.0022\n",
            "Epoch 41/100\n",
            "13/13 [==============================] - 2s 193ms/step - loss: 0.0013 - val_loss: 0.0023\n",
            "Epoch 42/100\n",
            "13/13 [==============================] - 2s 189ms/step - loss: 0.0013 - val_loss: 0.0021\n",
            "Epoch 43/100\n",
            "13/13 [==============================] - 2s 188ms/step - loss: 0.0013 - val_loss: 0.0022\n",
            "Epoch 44/100\n",
            "13/13 [==============================] - 2s 193ms/step - loss: 0.0012 - val_loss: 0.0022\n",
            "Epoch 45/100\n",
            "13/13 [==============================] - 2s 187ms/step - loss: 0.0013 - val_loss: 0.0023\n",
            "Epoch 46/100\n",
            "13/13 [==============================] - 2s 193ms/step - loss: 0.0011 - val_loss: 0.0022\n",
            "Epoch 47/100\n",
            "13/13 [==============================] - 2s 189ms/step - loss: 0.0011 - val_loss: 0.0020\n",
            "Epoch 48/100\n",
            "13/13 [==============================] - 2s 187ms/step - loss: 0.0012 - val_loss: 0.0020\n",
            "Epoch 49/100\n",
            "13/13 [==============================] - 2s 186ms/step - loss: 0.0012 - val_loss: 0.0019\n",
            "Epoch 50/100\n",
            "13/13 [==============================] - 2s 190ms/step - loss: 0.0012 - val_loss: 0.0021\n",
            "Epoch 51/100\n",
            "13/13 [==============================] - 2s 190ms/step - loss: 0.0012 - val_loss: 0.0023\n",
            "Epoch 52/100\n",
            "13/13 [==============================] - 2s 187ms/step - loss: 0.0012 - val_loss: 0.0021\n",
            "Epoch 53/100\n",
            "13/13 [==============================] - 2s 189ms/step - loss: 0.0013 - val_loss: 0.0019\n",
            "Epoch 54/100\n",
            "13/13 [==============================] - 2s 188ms/step - loss: 0.0011 - val_loss: 0.0019\n",
            "Epoch 55/100\n",
            "13/13 [==============================] - 2s 190ms/step - loss: 0.0011 - val_loss: 0.0020\n",
            "Epoch 56/100\n",
            "13/13 [==============================] - 3s 195ms/step - loss: 0.0011 - val_loss: 0.0020\n",
            "Epoch 57/100\n",
            "13/13 [==============================] - 2s 189ms/step - loss: 0.0010 - val_loss: 0.0019\n",
            "Epoch 58/100\n",
            "13/13 [==============================] - 2s 190ms/step - loss: 0.0010 - val_loss: 0.0020\n",
            "Epoch 59/100\n",
            "13/13 [==============================] - 2s 190ms/step - loss: 0.0011 - val_loss: 0.0020\n",
            "Epoch 60/100\n",
            "13/13 [==============================] - 2s 189ms/step - loss: 0.0012 - val_loss: 0.0016\n",
            "Epoch 61/100\n",
            "13/13 [==============================] - 2s 192ms/step - loss: 0.0012 - val_loss: 0.0018\n",
            "Epoch 62/100\n",
            "13/13 [==============================] - 2s 190ms/step - loss: 0.0011 - val_loss: 0.0021\n",
            "Epoch 63/100\n",
            "13/13 [==============================] - 2s 191ms/step - loss: 0.0012 - val_loss: 0.0020\n",
            "Epoch 64/100\n",
            "13/13 [==============================] - 2s 190ms/step - loss: 9.5521e-04 - val_loss: 0.0018\n",
            "Epoch 65/100\n",
            "13/13 [==============================] - 2s 190ms/step - loss: 0.0011 - val_loss: 0.0017\n",
            "Epoch 66/100\n",
            "13/13 [==============================] - 2s 190ms/step - loss: 0.0010 - val_loss: 0.0016\n",
            "Epoch 67/100\n",
            "13/13 [==============================] - 2s 189ms/step - loss: 9.0205e-04 - val_loss: 0.0015\n",
            "Epoch 68/100\n",
            "13/13 [==============================] - 2s 191ms/step - loss: 9.7827e-04 - val_loss: 0.0016\n",
            "Epoch 69/100\n",
            "13/13 [==============================] - 3s 198ms/step - loss: 0.0011 - val_loss: 0.0017\n",
            "Epoch 70/100\n",
            "13/13 [==============================] - 2s 189ms/step - loss: 9.1070e-04 - val_loss: 0.0019\n",
            "Epoch 71/100\n",
            "13/13 [==============================] - 2s 192ms/step - loss: 9.9689e-04 - val_loss: 0.0017\n",
            "Epoch 72/100\n",
            "13/13 [==============================] - 2s 191ms/step - loss: 9.0085e-04 - val_loss: 0.0016\n",
            "Epoch 73/100\n",
            "13/13 [==============================] - 2s 193ms/step - loss: 8.5183e-04 - val_loss: 0.0017\n",
            "Epoch 74/100\n",
            "13/13 [==============================] - 2s 192ms/step - loss: 9.1677e-04 - val_loss: 0.0016\n",
            "Epoch 75/100\n",
            "13/13 [==============================] - 2s 191ms/step - loss: 8.5499e-04 - val_loss: 0.0016\n",
            "Epoch 76/100\n",
            "13/13 [==============================] - 3s 196ms/step - loss: 8.3152e-04 - val_loss: 0.0016\n",
            "Epoch 77/100\n",
            "13/13 [==============================] - 2s 190ms/step - loss: 9.6651e-04 - val_loss: 0.0015\n",
            "Epoch 78/100\n",
            "13/13 [==============================] - 3s 197ms/step - loss: 0.0010 - val_loss: 0.0016\n",
            "Epoch 79/100\n",
            "13/13 [==============================] - 2s 193ms/step - loss: 9.1601e-04 - val_loss: 0.0015\n",
            "Epoch 80/100\n",
            "13/13 [==============================] - 2s 189ms/step - loss: 9.0694e-04 - val_loss: 0.0016\n",
            "Epoch 81/100\n",
            "13/13 [==============================] - 2s 187ms/step - loss: 8.9864e-04 - val_loss: 0.0013\n",
            "Epoch 82/100\n",
            "13/13 [==============================] - 2s 189ms/step - loss: 0.0010 - val_loss: 0.0016\n",
            "Epoch 83/100\n",
            "13/13 [==============================] - 2s 191ms/step - loss: 8.2808e-04 - val_loss: 0.0013\n",
            "Epoch 84/100\n",
            "13/13 [==============================] - 2s 188ms/step - loss: 7.9753e-04 - val_loss: 0.0014\n",
            "Epoch 85/100\n",
            "13/13 [==============================] - 2s 186ms/step - loss: 7.7541e-04 - val_loss: 0.0014\n",
            "Epoch 86/100\n",
            "13/13 [==============================] - 2s 189ms/step - loss: 8.2395e-04 - val_loss: 0.0014\n",
            "Epoch 87/100\n",
            "13/13 [==============================] - 3s 209ms/step - loss: 8.4003e-04 - val_loss: 0.0013\n",
            "Epoch 88/100\n",
            "13/13 [==============================] - 2s 190ms/step - loss: 7.0710e-04 - val_loss: 0.0013\n",
            "Epoch 89/100\n",
            "13/13 [==============================] - 3s 195ms/step - loss: 7.0260e-04 - val_loss: 0.0013\n",
            "Epoch 90/100\n",
            "13/13 [==============================] - 3s 195ms/step - loss: 7.0222e-04 - val_loss: 0.0012\n",
            "Epoch 91/100\n",
            "13/13 [==============================] - 2s 189ms/step - loss: 8.4213e-04 - val_loss: 0.0011\n",
            "Epoch 92/100\n",
            "13/13 [==============================] - 2s 193ms/step - loss: 8.9087e-04 - val_loss: 0.0014\n",
            "Epoch 93/100\n",
            "13/13 [==============================] - 2s 193ms/step - loss: 7.8220e-04 - val_loss: 0.0012\n",
            "Epoch 94/100\n",
            "13/13 [==============================] - 2s 188ms/step - loss: 7.1195e-04 - val_loss: 0.0013\n",
            "Epoch 95/100\n",
            "13/13 [==============================] - 2s 193ms/step - loss: 8.5442e-04 - val_loss: 0.0012\n",
            "Epoch 96/100\n",
            "13/13 [==============================] - 2s 189ms/step - loss: 6.9306e-04 - val_loss: 0.0013\n",
            "Epoch 97/100\n",
            "13/13 [==============================] - 2s 192ms/step - loss: 6.9963e-04 - val_loss: 0.0011\n",
            "Epoch 98/100\n",
            "13/13 [==============================] - 2s 189ms/step - loss: 7.1904e-04 - val_loss: 0.0014\n",
            "Epoch 99/100\n",
            "13/13 [==============================] - 2s 187ms/step - loss: 8.3300e-04 - val_loss: 0.0013\n",
            "Epoch 100/100\n",
            "13/13 [==============================] - 2s 189ms/step - loss: 6.4166e-04 - val_loss: 0.0011\n"
          ],
          "name": "stdout"
        },
        {
          "output_type": "execute_result",
          "data": {
            "text/plain": [
              "<tensorflow.python.keras.callbacks.History at 0x7fb4af4e6ba8>"
            ]
          },
          "metadata": {
            "tags": []
          },
          "execution_count": 83
        }
      ]
    },
    {
      "cell_type": "code",
      "metadata": {
        "id": "ytj-FwSQCP0h"
      },
      "source": [
        "train_predict=model.predict(X_train)\r\n",
        "test_predict=model.predict(X_test)"
      ],
      "execution_count": 85,
      "outputs": []
    },
    {
      "cell_type": "code",
      "metadata": {
        "id": "cLzGkCXxCX5C"
      },
      "source": [
        "train_predict = scaler.inverse_transform(train_predict)\r\n",
        "test_predict = scaler.inverse_transform(test_predict)"
      ],
      "execution_count": 86,
      "outputs": []
    },
    {
      "cell_type": "code",
      "metadata": {
        "colab": {
          "base_uri": "https://localhost:8080/"
        },
        "id": "2EViTrd7Cg0w",
        "outputId": "f292f170-f919-4b9a-b0b8-23f86c3115d1"
      },
      "source": [
        "import math\r\n",
        "from sklearn.metrics import mean_squared_error\r\n",
        "math.sqrt(mean_squared_error(y_train, train_predict))"
      ],
      "execution_count": 87,
      "outputs": [
        {
          "output_type": "execute_result",
          "data": {
            "text/plain": [
              "2223.423048066997"
            ]
          },
          "metadata": {
            "tags": []
          },
          "execution_count": 87
        }
      ]
    },
    {
      "cell_type": "code",
      "metadata": {
        "colab": {
          "base_uri": "https://localhost:8080/"
        },
        "id": "NVjPsaELC-t3",
        "outputId": "29875d3d-52b7-40f9-e628-718c2efc7f82"
      },
      "source": [
        "math.sqrt(mean_squared_error(y_test, test_predict))"
      ],
      "execution_count": 88,
      "outputs": [
        {
          "output_type": "execute_result",
          "data": {
            "text/plain": [
              "1291.961585356757"
            ]
          },
          "metadata": {
            "tags": []
          },
          "execution_count": 88
        }
      ]
    },
    {
      "cell_type": "code",
      "metadata": {
        "id": "SUGhTA5CDS77"
      },
      "source": [
        "#Shift train predictions for plotting\r\n",
        "look_back = 100\r\n",
        "train_predict_plot = np.empty_like(df)\r\n",
        "train_predict_plot[:, :] = np.nan\r\n",
        "train_predict_plot[look_back:len(train_predict)+look_back, :] = train_predict"
      ],
      "execution_count": 89,
      "outputs": []
    },
    {
      "cell_type": "code",
      "metadata": {
        "id": "-GAbCg0mDuJT"
      },
      "source": [
        "#Shift test predictions for plotting\r\n",
        "test_predict_plot = np.empty_like(df)\r\n",
        "test_predict_plot[:, :] = np.nan\r\n",
        "test_predict_plot[len(train_predict)+(look_back*2)+1:len(df)-1, :] = test_predict"
      ],
      "execution_count": 90,
      "outputs": []
    },
    {
      "cell_type": "code",
      "metadata": {
        "colab": {
          "base_uri": "https://localhost:8080/",
          "height": 265
        },
        "id": "HzirPuHfD_9z",
        "outputId": "2658e31e-951d-49ed-959b-d9dc59e544e6"
      },
      "source": [
        "plt.plot(scaler.inverse_transform(df))\r\n",
        "plt.plot(train_predict_plot)\r\n",
        "plt.plot(test_predict_plot)\r\n",
        "plt.show()"
      ],
      "execution_count": 91,
      "outputs": [
        {
          "output_type": "display_data",
          "data": {
            "image/png": "[encoded data removed]",
            "text/plain": [
              "<Figure size 432x288 with 1 Axes>"
            ]
          },
          "metadata": {
            "tags": [],
            "needs_background": "light"
          }
        }
      ]
    },
    {
      "cell_type": "code",
      "metadata": {
        "colab": {
          "base_uri": "https://localhost:8080/"
        },
        "id": "_nZRs5gST_LO",
        "outputId": "8ebe6c3c-ac7c-4feb-e8ba-c04f4ae0929b"
      },
      "source": [
        "print(len(train_data), len(test_data))"
      ],
      "execution_count": 92,
      "outputs": [
        {
          "output_type": "stream",
          "text": [
            "915 494\n"
          ],
          "name": "stdout"
        }
      ]
    },
    {
      "cell_type": "code",
      "metadata": {
        "id": "j9qivASSM7Ob"
      },
      "source": [
        "start_range = 394\r\n",
        "\r\n",
        "x_input=test_data[start_range:].reshape(1,-1)\r\n",
        "temp_input=list(x_input)\r\n",
        "temp_input=temp_input[0].tolist()"
      ],
      "execution_count": 93,
      "outputs": []
    },
    {
      "cell_type": "code",
      "metadata": {
        "colab": {
          "base_uri": "https://localhost:8080/"
        },
        "id": "q6ezRrkgNoc5",
        "outputId": "8f447c44-dfcd-4fc5-f6da-1a5b90c5014d"
      },
      "source": [
        "from numpy import array\r\n",
        "\r\n",
        "lst_output=[]\r\n",
        "n_steps= 100\r\n",
        "i=0\r\n",
        "for i in range(30):\r\n",
        "  if(len(temp_input)>100):\r\n",
        "      x_input=np.array(temp_input[1:])\r\n",
        "      print(\"{} day input {}\".format(i,x_input))\r\n",
        "      x_input =x_input.reshape(1,-1)\r\n",
        "      x_input = x_input.reshape((1, n_steps, 1))\r\n",
        "      yhat = model.predict(x_input, verbose=0)\r\n",
        "      print(\"{} day output {}\".format(i,yhat))\r\n",
        "      temp_input.extend(yhat[0].tolist())\r\n",
        "      temp_input=temp_input[1:]\r\n",
        "      lst_output.extend(yhat.tolist())\r\n",
        "  else:\r\n",
        "      x_input = x_input.reshape((1, n_steps,1))\r\n",
        "      yhat = model.predict(x_input, verbose=0)\r\n",
        "      temp_input.extend(yhat[0].tolist())\r\n",
        "      lst_output.extend(yhat.tolist())\r\n",
        "    \r\n",
        "\r\n",
        "print(lst_output)"
      ],
      "execution_count": 94,
      "outputs": [
        {
          "output_type": "stream",
          "text": [
            "1 day input [0.08370206 0.08185841 0.08554572 0.09476401 0.09476401 0.08923304\n",
            " 0.08923304 0.09660767 0.09660767 0.10213864 0.10766962 0.10582596\n",
            " 0.10213864 0.09845133 0.09292035 0.0910767  0.0910767  0.08738938\n",
            " 0.08370206 0.08554572 0.08554572 0.08001475 0.06526549 0.06342183\n",
            " 0.07079646 0.0689528  0.06710914 0.06342183 0.06342183 0.05789086\n",
            " 0.04682891 0.04129794 0.0339233  0.03945428 0.04314159 0.04129794\n",
            " 0.03687316 0.04129794 0.03761062 0.04314159 0.05235988 0.05235988\n",
            " 0.05420354 0.0689528  0.09292035 0.11320059 0.11688791 0.10766962\n",
            " 0.11688791 0.12241888 0.11688791 0.13716814 0.13532448 0.12979351\n",
            " 0.13163717 0.12610619 0.11873156 0.13163717 0.12426254 0.12979351\n",
            " 0.12979351 0.14454277 0.17772861 0.19616519 0.19063422 0.19985251\n",
            " 0.22935103 0.22382006 0.23119469 0.24410029 0.23119469 0.2570059\n",
            " 0.25331858 0.23856932 0.24225664 0.26253687 0.23672566 0.24778761\n",
            " 0.27175516 0.28281711 0.28281711 0.29572271 0.28834808 0.28834808\n",
            " 0.27912979 0.28097345 0.29572271 0.2920354  0.29941003 0.38974926\n",
            " 0.40634218 0.4100295  0.375      0.36762537 0.40634218 0.40818584\n",
            " 0.46533923 0.46902655 0.46165192 0.43980312]\n",
            "1 day output [[0.44886407]]\n",
            "2 day input [0.08185841 0.08554572 0.09476401 0.09476401 0.08923304 0.08923304\n",
            " 0.09660767 0.09660767 0.10213864 0.10766962 0.10582596 0.10213864\n",
            " 0.09845133 0.09292035 0.0910767  0.0910767  0.08738938 0.08370206\n",
            " 0.08554572 0.08554572 0.08001475 0.06526549 0.06342183 0.07079646\n",
            " 0.0689528  0.06710914 0.06342183 0.06342183 0.05789086 0.04682891\n",
            " 0.04129794 0.0339233  0.03945428 0.04314159 0.04129794 0.03687316\n",
            " 0.04129794 0.03761062 0.04314159 0.05235988 0.05235988 0.05420354\n",
            " 0.0689528  0.09292035 0.11320059 0.11688791 0.10766962 0.11688791\n",
            " 0.12241888 0.11688791 0.13716814 0.13532448 0.12979351 0.13163717\n",
            " 0.12610619 0.11873156 0.13163717 0.12426254 0.12979351 0.12979351\n",
            " 0.14454277 0.17772861 0.19616519 0.19063422 0.19985251 0.22935103\n",
            " 0.22382006 0.23119469 0.24410029 0.23119469 0.2570059  0.25331858\n",
            " 0.23856932 0.24225664 0.26253687 0.23672566 0.24778761 0.27175516\n",
            " 0.28281711 0.28281711 0.29572271 0.28834808 0.28834808 0.27912979\n",
            " 0.28097345 0.29572271 0.2920354  0.29941003 0.38974926 0.40634218\n",
            " 0.4100295  0.375      0.36762537 0.40634218 0.40818584 0.46533923\n",
            " 0.46902655 0.46165192 0.43980312 0.44886407]\n",
            "2 day output [[0.45322135]]\n",
            "3 day input [0.08554572 0.09476401 0.09476401 0.08923304 0.08923304 0.09660767\n",
            " 0.09660767 0.10213864 0.10766962 0.10582596 0.10213864 0.09845133\n",
            " 0.09292035 0.0910767  0.0910767  0.08738938 0.08370206 0.08554572\n",
            " 0.08554572 0.08001475 0.06526549 0.06342183 0.07079646 0.0689528\n",
            " 0.06710914 0.06342183 0.06342183 0.05789086 0.04682891 0.04129794\n",
            " 0.0339233  0.03945428 0.04314159 0.04129794 0.03687316 0.04129794\n",
            " 0.03761062 0.04314159 0.05235988 0.05235988 0.05420354 0.0689528\n",
            " 0.09292035 0.11320059 0.11688791 0.10766962 0.11688791 0.12241888\n",
            " 0.11688791 0.13716814 0.13532448 0.12979351 0.13163717 0.12610619\n",
            " 0.11873156 0.13163717 0.12426254 0.12979351 0.12979351 0.14454277\n",
            " 0.17772861 0.19616519 0.19063422 0.19985251 0.22935103 0.22382006\n",
            " 0.23119469 0.24410029 0.23119469 0.2570059  0.25331858 0.23856932\n",
            " 0.24225664 0.26253687 0.23672566 0.24778761 0.27175516 0.28281711\n",
            " 0.28281711 0.29572271 0.28834808 0.28834808 0.27912979 0.28097345\n",
            " 0.29572271 0.2920354  0.29941003 0.38974926 0.40634218 0.4100295\n",
            " 0.375      0.36762537 0.40634218 0.40818584 0.46533923 0.46902655\n",
            " 0.46165192 0.43980312 0.44886407 0.45322135]\n",
            "3 day output [[0.45454067]]\n",
            "4 day input [0.09476401 0.09476401 0.08923304 0.08923304 0.09660767 0.09660767\n",
            " 0.10213864 0.10766962 0.10582596 0.10213864 0.09845133 0.09292035\n",
            " 0.0910767  0.0910767  0.08738938 0.08370206 0.08554572 0.08554572\n",
            " 0.08001475 0.06526549 0.06342183 0.07079646 0.0689528  0.06710914\n",
            " 0.06342183 0.06342183 0.05789086 0.04682891 0.04129794 0.0339233\n",
            " 0.03945428 0.04314159 0.04129794 0.03687316 0.04129794 0.03761062\n",
            " 0.04314159 0.05235988 0.05235988 0.05420354 0.0689528  0.09292035\n",
            " 0.11320059 0.11688791 0.10766962 0.11688791 0.12241888 0.11688791\n",
            " 0.13716814 0.13532448 0.12979351 0.13163717 0.12610619 0.11873156\n",
            " 0.13163717 0.12426254 0.12979351 0.12979351 0.14454277 0.17772861\n",
            " 0.19616519 0.19063422 0.19985251 0.22935103 0.22382006 0.23119469\n",
            " 0.24410029 0.23119469 0.2570059  0.25331858 0.23856932 0.24225664\n",
            " 0.26253687 0.23672566 0.24778761 0.27175516 0.28281711 0.28281711\n",
            " 0.29572271 0.28834808 0.28834808 0.27912979 0.28097345 0.29572271\n",
            " 0.2920354  0.29941003 0.38974926 0.40634218 0.4100295  0.375\n",
            " 0.36762537 0.40634218 0.40818584 0.46533923 0.46902655 0.46165192\n",
            " 0.43980312 0.44886407 0.45322135 0.45454067]\n",
            "4 day output [[0.45420733]]\n",
            "5 day input [0.09476401 0.08923304 0.08923304 0.09660767 0.09660767 0.10213864\n",
            " 0.10766962 0.10582596 0.10213864 0.09845133 0.09292035 0.0910767\n",
            " 0.0910767  0.08738938 0.08370206 0.08554572 0.08554572 0.08001475\n",
            " 0.06526549 0.06342183 0.07079646 0.0689528  0.06710914 0.06342183\n",
            " 0.06342183 0.05789086 0.04682891 0.04129794 0.0339233  0.03945428\n",
            " 0.04314159 0.04129794 0.03687316 0.04129794 0.03761062 0.04314159\n",
            " 0.05235988 0.05235988 0.05420354 0.0689528  0.09292035 0.11320059\n",
            " 0.11688791 0.10766962 0.11688791 0.12241888 0.11688791 0.13716814\n",
            " 0.13532448 0.12979351 0.13163717 0.12610619 0.11873156 0.13163717\n",
            " 0.12426254 0.12979351 0.12979351 0.14454277 0.17772861 0.19616519\n",
            " 0.19063422 0.19985251 0.22935103 0.22382006 0.23119469 0.24410029\n",
            " 0.23119469 0.2570059  0.25331858 0.23856932 0.24225664 0.26253687\n",
            " 0.23672566 0.24778761 0.27175516 0.28281711 0.28281711 0.29572271\n",
            " 0.28834808 0.28834808 0.27912979 0.28097345 0.29572271 0.2920354\n",
            " 0.29941003 0.38974926 0.40634218 0.4100295  0.375      0.36762537\n",
            " 0.40634218 0.40818584 0.46533923 0.46902655 0.46165192 0.43980312\n",
            " 0.44886407 0.45322135 0.45454067 0.45420733]\n",
            "5 day output [[0.4531235]]\n",
            "6 day input [0.08923304 0.08923304 0.09660767 0.09660767 0.10213864 0.10766962\n",
            " 0.10582596 0.10213864 0.09845133 0.09292035 0.0910767  0.0910767\n",
            " 0.08738938 0.08370206 0.08554572 0.08554572 0.08001475 0.06526549\n",
            " 0.06342183 0.07079646 0.0689528  0.06710914 0.06342183 0.06342183\n",
            " 0.05789086 0.04682891 0.04129794 0.0339233  0.03945428 0.04314159\n",
            " 0.04129794 0.03687316 0.04129794 0.03761062 0.04314159 0.05235988\n",
            " 0.05235988 0.05420354 0.0689528  0.09292035 0.11320059 0.11688791\n",
            " 0.10766962 0.11688791 0.12241888 0.11688791 0.13716814 0.13532448\n",
            " 0.12979351 0.13163717 0.12610619 0.11873156 0.13163717 0.12426254\n",
            " 0.12979351 0.12979351 0.14454277 0.17772861 0.19616519 0.19063422\n",
            " 0.19985251 0.22935103 0.22382006 0.23119469 0.24410029 0.23119469\n",
            " 0.2570059  0.25331858 0.23856932 0.24225664 0.26253687 0.23672566\n",
            " 0.24778761 0.27175516 0.28281711 0.28281711 0.29572271 0.28834808\n",
            " 0.28834808 0.27912979 0.28097345 0.29572271 0.2920354  0.29941003\n",
            " 0.38974926 0.40634218 0.4100295  0.375      0.36762537 0.40634218\n",
            " 0.40818584 0.46533923 0.46902655 0.46165192 0.43980312 0.44886407\n",
            " 0.45322135 0.45454067 0.45420733 0.45312351]\n",
            "6 day output [[0.4518016]]\n",
            "7 day input [0.08923304 0.09660767 0.09660767 0.10213864 0.10766962 0.10582596\n",
            " 0.10213864 0.09845133 0.09292035 0.0910767  0.0910767  0.08738938\n",
            " 0.08370206 0.08554572 0.08554572 0.08001475 0.06526549 0.06342183\n",
            " 0.07079646 0.0689528  0.06710914 0.06342183 0.06342183 0.05789086\n",
            " 0.04682891 0.04129794 0.0339233  0.03945428 0.04314159 0.04129794\n",
            " 0.03687316 0.04129794 0.03761062 0.04314159 0.05235988 0.05235988\n",
            " 0.05420354 0.0689528  0.09292035 0.11320059 0.11688791 0.10766962\n",
            " 0.11688791 0.12241888 0.11688791 0.13716814 0.13532448 0.12979351\n",
            " 0.13163717 0.12610619 0.11873156 0.13163717 0.12426254 0.12979351\n",
            " 0.12979351 0.14454277 0.17772861 0.19616519 0.19063422 0.19985251\n",
            " 0.22935103 0.22382006 0.23119469 0.24410029 0.23119469 0.2570059\n",
            " 0.25331858 0.23856932 0.24225664 0.26253687 0.23672566 0.24778761\n",
            " 0.27175516 0.28281711 0.28281711 0.29572271 0.28834808 0.28834808\n",
            " 0.27912979 0.28097345 0.29572271 0.2920354  0.29941003 0.38974926\n",
            " 0.40634218 0.4100295  0.375      0.36762537 0.40634218 0.40818584\n",
            " 0.46533923 0.46902655 0.46165192 0.43980312 0.44886407 0.45322135\n",
            " 0.45454067 0.45420733 0.45312351 0.4518016 ]\n",
            "7 day output [[0.45050904]]\n",
            "8 day input [0.09660767 0.09660767 0.10213864 0.10766962 0.10582596 0.10213864\n",
            " 0.09845133 0.09292035 0.0910767  0.0910767  0.08738938 0.08370206\n",
            " 0.08554572 0.08554572 0.08001475 0.06526549 0.06342183 0.07079646\n",
            " 0.0689528  0.06710914 0.06342183 0.06342183 0.05789086 0.04682891\n",
            " 0.04129794 0.0339233  0.03945428 0.04314159 0.04129794 0.03687316\n",
            " 0.04129794 0.03761062 0.04314159 0.05235988 0.05235988 0.05420354\n",
            " 0.0689528  0.09292035 0.11320059 0.11688791 0.10766962 0.11688791\n",
            " 0.12241888 0.11688791 0.13716814 0.13532448 0.12979351 0.13163717\n",
            " 0.12610619 0.11873156 0.13163717 0.12426254 0.12979351 0.12979351\n",
            " 0.14454277 0.17772861 0.19616519 0.19063422 0.19985251 0.22935103\n",
            " 0.22382006 0.23119469 0.24410029 0.23119469 0.2570059  0.25331858\n",
            " 0.23856932 0.24225664 0.26253687 0.23672566 0.24778761 0.27175516\n",
            " 0.28281711 0.28281711 0.29572271 0.28834808 0.28834808 0.27912979\n",
            " 0.28097345 0.29572271 0.2920354  0.29941003 0.38974926 0.40634218\n",
            " 0.4100295  0.375      0.36762537 0.40634218 0.40818584 0.46533923\n",
            " 0.46902655 0.46165192 0.43980312 0.44886407 0.45322135 0.45454067\n",
            " 0.45420733 0.45312351 0.4518016  0.45050904]\n",
            "8 day output [[0.44938126]]\n",
            "9 day input [0.09660767 0.10213864 0.10766962 0.10582596 0.10213864 0.09845133\n",
            " 0.09292035 0.0910767  0.0910767  0.08738938 0.08370206 0.08554572\n",
            " 0.08554572 0.08001475 0.06526549 0.06342183 0.07079646 0.0689528\n",
            " 0.06710914 0.06342183 0.06342183 0.05789086 0.04682891 0.04129794\n",
            " 0.0339233  0.03945428 0.04314159 0.04129794 0.03687316 0.04129794\n",
            " 0.03761062 0.04314159 0.05235988 0.05235988 0.05420354 0.0689528\n",
            " 0.09292035 0.11320059 0.11688791 0.10766962 0.11688791 0.12241888\n",
            " 0.11688791 0.13716814 0.13532448 0.12979351 0.13163717 0.12610619\n",
            " 0.11873156 0.13163717 0.12426254 0.12979351 0.12979351 0.14454277\n",
            " 0.17772861 0.19616519 0.19063422 0.19985251 0.22935103 0.22382006\n",
            " 0.23119469 0.24410029 0.23119469 0.2570059  0.25331858 0.23856932\n",
            " 0.24225664 0.26253687 0.23672566 0.24778761 0.27175516 0.28281711\n",
            " 0.28281711 0.29572271 0.28834808 0.28834808 0.27912979 0.28097345\n",
            " 0.29572271 0.2920354  0.29941003 0.38974926 0.40634218 0.4100295\n",
            " 0.375      0.36762537 0.40634218 0.40818584 0.46533923 0.46902655\n",
            " 0.46165192 0.43980312 0.44886407 0.45322135 0.45454067 0.45420733\n",
            " 0.45312351 0.4518016  0.45050904 0.44938126]\n",
            "9 day output [[0.4484857]]\n",
            "10 day input [0.10213864 0.10766962 0.10582596 0.10213864 0.09845133 0.09292035\n",
            " 0.0910767  0.0910767  0.08738938 0.08370206 0.08554572 0.08554572\n",
            " 0.08001475 0.06526549 0.06342183 0.07079646 0.0689528  0.06710914\n",
            " 0.06342183 0.06342183 0.05789086 0.04682891 0.04129794 0.0339233\n",
            " 0.03945428 0.04314159 0.04129794 0.03687316 0.04129794 0.03761062\n",
            " 0.04314159 0.05235988 0.05235988 0.05420354 0.0689528  0.09292035\n",
            " 0.11320059 0.11688791 0.10766962 0.11688791 0.12241888 0.11688791\n",
            " 0.13716814 0.13532448 0.12979351 0.13163717 0.12610619 0.11873156\n",
            " 0.13163717 0.12426254 0.12979351 0.12979351 0.14454277 0.17772861\n",
            " 0.19616519 0.19063422 0.19985251 0.22935103 0.22382006 0.23119469\n",
            " 0.24410029 0.23119469 0.2570059  0.25331858 0.23856932 0.24225664\n",
            " 0.26253687 0.23672566 0.24778761 0.27175516 0.28281711 0.28281711\n",
            " 0.29572271 0.28834808 0.28834808 0.27912979 0.28097345 0.29572271\n",
            " 0.2920354  0.29941003 0.38974926 0.40634218 0.4100295  0.375\n",
            " 0.36762537 0.40634218 0.40818584 0.46533923 0.46902655 0.46165192\n",
            " 0.43980312 0.44886407 0.45322135 0.45454067 0.45420733 0.45312351\n",
            " 0.4518016  0.45050904 0.44938126 0.4484857 ]\n",
            "10 day output [[0.4478542]]\n",
            "11 day input [0.10766962 0.10582596 0.10213864 0.09845133 0.09292035 0.0910767\n",
            " 0.0910767  0.08738938 0.08370206 0.08554572 0.08554572 0.08001475\n",
            " 0.06526549 0.06342183 0.07079646 0.0689528  0.06710914 0.06342183\n",
            " 0.06342183 0.05789086 0.04682891 0.04129794 0.0339233  0.03945428\n",
            " 0.04314159 0.04129794 0.03687316 0.04129794 0.03761062 0.04314159\n",
            " 0.05235988 0.05235988 0.05420354 0.0689528  0.09292035 0.11320059\n",
            " 0.11688791 0.10766962 0.11688791 0.12241888 0.11688791 0.13716814\n",
            " 0.13532448 0.12979351 0.13163717 0.12610619 0.11873156 0.13163717\n",
            " 0.12426254 0.12979351 0.12979351 0.14454277 0.17772861 0.19616519\n",
            " 0.19063422 0.19985251 0.22935103 0.22382006 0.23119469 0.24410029\n",
            " 0.23119469 0.2570059  0.25331858 0.23856932 0.24225664 0.26253687\n",
            " 0.23672566 0.24778761 0.27175516 0.28281711 0.28281711 0.29572271\n",
            " 0.28834808 0.28834808 0.27912979 0.28097345 0.29572271 0.2920354\n",
            " 0.29941003 0.38974926 0.40634218 0.4100295  0.375      0.36762537\n",
            " 0.40634218 0.40818584 0.46533923 0.46902655 0.46165192 0.43980312\n",
            " 0.44886407 0.45322135 0.45454067 0.45420733 0.45312351 0.4518016\n",
            " 0.45050904 0.44938126 0.4484857  0.44785419]\n",
            "11 day output [[0.4474965]]\n",
            "12 day input [0.10582596 0.10213864 0.09845133 0.09292035 0.0910767  0.0910767\n",
            " 0.08738938 0.08370206 0.08554572 0.08554572 0.08001475 0.06526549\n",
            " 0.06342183 0.07079646 0.0689528  0.06710914 0.06342183 0.06342183\n",
            " 0.05789086 0.04682891 0.04129794 0.0339233  0.03945428 0.04314159\n",
            " 0.04129794 0.03687316 0.04129794 0.03761062 0.04314159 0.05235988\n",
            " 0.05235988 0.05420354 0.0689528  0.09292035 0.11320059 0.11688791\n",
            " 0.10766962 0.11688791 0.12241888 0.11688791 0.13716814 0.13532448\n",
            " 0.12979351 0.13163717 0.12610619 0.11873156 0.13163717 0.12426254\n",
            " 0.12979351 0.12979351 0.14454277 0.17772861 0.19616519 0.19063422\n",
            " 0.19985251 0.22935103 0.22382006 0.23119469 0.24410029 0.23119469\n",
            " 0.2570059  0.25331858 0.23856932 0.24225664 0.26253687 0.23672566\n",
            " 0.24778761 0.27175516 0.28281711 0.28281711 0.29572271 0.28834808\n",
            " 0.28834808 0.27912979 0.28097345 0.29572271 0.2920354  0.29941003\n",
            " 0.38974926 0.40634218 0.4100295  0.375      0.36762537 0.40634218\n",
            " 0.40818584 0.46533923 0.46902655 0.46165192 0.43980312 0.44886407\n",
            " 0.45322135 0.45454067 0.45420733 0.45312351 0.4518016  0.45050904\n",
            " 0.44938126 0.4484857  0.44785419 0.4474965 ]\n",
            "12 day output [[0.44740626]]\n",
            "13 day input [0.10213864 0.09845133 0.09292035 0.0910767  0.0910767  0.08738938\n",
            " 0.08370206 0.08554572 0.08554572 0.08001475 0.06526549 0.06342183\n",
            " 0.07079646 0.0689528  0.06710914 0.06342183 0.06342183 0.05789086\n",
            " 0.04682891 0.04129794 0.0339233  0.03945428 0.04314159 0.04129794\n",
            " 0.03687316 0.04129794 0.03761062 0.04314159 0.05235988 0.05235988\n",
            " 0.05420354 0.0689528  0.09292035 0.11320059 0.11688791 0.10766962\n",
            " 0.11688791 0.12241888 0.11688791 0.13716814 0.13532448 0.12979351\n",
            " 0.13163717 0.12610619 0.11873156 0.13163717 0.12426254 0.12979351\n",
            " 0.12979351 0.14454277 0.17772861 0.19616519 0.19063422 0.19985251\n",
            " 0.22935103 0.22382006 0.23119469 0.24410029 0.23119469 0.2570059\n",
            " 0.25331858 0.23856932 0.24225664 0.26253687 0.23672566 0.24778761\n",
            " 0.27175516 0.28281711 0.28281711 0.29572271 0.28834808 0.28834808\n",
            " 0.27912979 0.28097345 0.29572271 0.2920354  0.29941003 0.38974926\n",
            " 0.40634218 0.4100295  0.375      0.36762537 0.40634218 0.40818584\n",
            " 0.46533923 0.46902655 0.46165192 0.43980312 0.44886407 0.45322135\n",
            " 0.45454067 0.45420733 0.45312351 0.4518016  0.45050904 0.44938126\n",
            " 0.4484857  0.44785419 0.4474965  0.44740626]\n",
            "13 day output [[0.4475651]]\n",
            "14 day input [0.09845133 0.09292035 0.0910767  0.0910767  0.08738938 0.08370206\n",
            " 0.08554572 0.08554572 0.08001475 0.06526549 0.06342183 0.07079646\n",
            " 0.0689528  0.06710914 0.06342183 0.06342183 0.05789086 0.04682891\n",
            " 0.04129794 0.0339233  0.03945428 0.04314159 0.04129794 0.03687316\n",
            " 0.04129794 0.03761062 0.04314159 0.05235988 0.05235988 0.05420354\n",
            " 0.0689528  0.09292035 0.11320059 0.11688791 0.10766962 0.11688791\n",
            " 0.12241888 0.11688791 0.13716814 0.13532448 0.12979351 0.13163717\n",
            " 0.12610619 0.11873156 0.13163717 0.12426254 0.12979351 0.12979351\n",
            " 0.14454277 0.17772861 0.19616519 0.19063422 0.19985251 0.22935103\n",
            " 0.22382006 0.23119469 0.24410029 0.23119469 0.2570059  0.25331858\n",
            " 0.23856932 0.24225664 0.26253687 0.23672566 0.24778761 0.27175516\n",
            " 0.28281711 0.28281711 0.29572271 0.28834808 0.28834808 0.27912979\n",
            " 0.28097345 0.29572271 0.2920354  0.29941003 0.38974926 0.40634218\n",
            " 0.4100295  0.375      0.36762537 0.40634218 0.40818584 0.46533923\n",
            " 0.46902655 0.46165192 0.43980312 0.44886407 0.45322135 0.45454067\n",
            " 0.45420733 0.45312351 0.4518016  0.45050904 0.44938126 0.4484857\n",
            " 0.44785419 0.4474965  0.44740626 0.44756511]\n",
            "14 day output [[0.4479451]]\n",
            "15 day input [0.09292035 0.0910767  0.0910767  0.08738938 0.08370206 0.08554572\n",
            " 0.08554572 0.08001475 0.06526549 0.06342183 0.07079646 0.0689528\n",
            " 0.06710914 0.06342183 0.06342183 0.05789086 0.04682891 0.04129794\n",
            " 0.0339233  0.03945428 0.04314159 0.04129794 0.03687316 0.04129794\n",
            " 0.03761062 0.04314159 0.05235988 0.05235988 0.05420354 0.0689528\n",
            " 0.09292035 0.11320059 0.11688791 0.10766962 0.11688791 0.12241888\n",
            " 0.11688791 0.13716814 0.13532448 0.12979351 0.13163717 0.12610619\n",
            " 0.11873156 0.13163717 0.12426254 0.12979351 0.12979351 0.14454277\n",
            " 0.17772861 0.19616519 0.19063422 0.19985251 0.22935103 0.22382006\n",
            " 0.23119469 0.24410029 0.23119469 0.2570059  0.25331858 0.23856932\n",
            " 0.24225664 0.26253687 0.23672566 0.24778761 0.27175516 0.28281711\n",
            " 0.28281711 0.29572271 0.28834808 0.28834808 0.27912979 0.28097345\n",
            " 0.29572271 0.2920354  0.29941003 0.38974926 0.40634218 0.4100295\n",
            " 0.375      0.36762537 0.40634218 0.40818584 0.46533923 0.46902655\n",
            " 0.46165192 0.43980312 0.44886407 0.45322135 0.45454067 0.45420733\n",
            " 0.45312351 0.4518016  0.45050904 0.44938126 0.4484857  0.44785419\n",
            " 0.4474965  0.44740626 0.44756511 0.44794509]\n",
            "15 day output [[0.4485117]]\n",
            "16 day input [0.0910767  0.0910767  0.08738938 0.08370206 0.08554572 0.08554572\n",
            " 0.08001475 0.06526549 0.06342183 0.07079646 0.0689528  0.06710914\n",
            " 0.06342183 0.06342183 0.05789086 0.04682891 0.04129794 0.0339233\n",
            " 0.03945428 0.04314159 0.04129794 0.03687316 0.04129794 0.03761062\n",
            " 0.04314159 0.05235988 0.05235988 0.05420354 0.0689528  0.09292035\n",
            " 0.11320059 0.11688791 0.10766962 0.11688791 0.12241888 0.11688791\n",
            " 0.13716814 0.13532448 0.12979351 0.13163717 0.12610619 0.11873156\n",
            " 0.13163717 0.12426254 0.12979351 0.12979351 0.14454277 0.17772861\n",
            " 0.19616519 0.19063422 0.19985251 0.22935103 0.22382006 0.23119469\n",
            " 0.24410029 0.23119469 0.2570059  0.25331858 0.23856932 0.24225664\n",
            " 0.26253687 0.23672566 0.24778761 0.27175516 0.28281711 0.28281711\n",
            " 0.29572271 0.28834808 0.28834808 0.27912979 0.28097345 0.29572271\n",
            " 0.2920354  0.29941003 0.38974926 0.40634218 0.4100295  0.375\n",
            " 0.36762537 0.40634218 0.40818584 0.46533923 0.46902655 0.46165192\n",
            " 0.43980312 0.44886407 0.45322135 0.45454067 0.45420733 0.45312351\n",
            " 0.4518016  0.45050904 0.44938126 0.4484857  0.44785419 0.4474965\n",
            " 0.44740626 0.44756511 0.44794509 0.44851169]\n",
            "16 day output [[0.44922724]]\n",
            "17 day input [0.0910767  0.08738938 0.08370206 0.08554572 0.08554572 0.08001475\n",
            " 0.06526549 0.06342183 0.07079646 0.0689528  0.06710914 0.06342183\n",
            " 0.06342183 0.05789086 0.04682891 0.04129794 0.0339233  0.03945428\n",
            " 0.04314159 0.04129794 0.03687316 0.04129794 0.03761062 0.04314159\n",
            " 0.05235988 0.05235988 0.05420354 0.0689528  0.09292035 0.11320059\n",
            " 0.11688791 0.10766962 0.11688791 0.12241888 0.11688791 0.13716814\n",
            " 0.13532448 0.12979351 0.13163717 0.12610619 0.11873156 0.13163717\n",
            " 0.12426254 0.12979351 0.12979351 0.14454277 0.17772861 0.19616519\n",
            " 0.19063422 0.19985251 0.22935103 0.22382006 0.23119469 0.24410029\n",
            " 0.23119469 0.2570059  0.25331858 0.23856932 0.24225664 0.26253687\n",
            " 0.23672566 0.24778761 0.27175516 0.28281711 0.28281711 0.29572271\n",
            " 0.28834808 0.28834808 0.27912979 0.28097345 0.29572271 0.2920354\n",
            " 0.29941003 0.38974926 0.40634218 0.4100295  0.375      0.36762537\n",
            " 0.40634218 0.40818584 0.46533923 0.46902655 0.46165192 0.43980312\n",
            " 0.44886407 0.45322135 0.45454067 0.45420733 0.45312351 0.4518016\n",
            " 0.45050904 0.44938126 0.4484857  0.44785419 0.4474965  0.44740626\n",
            " 0.44756511 0.44794509 0.44851169 0.44922724]\n",
            "17 day output [[0.45005304]]\n",
            "18 day input [0.08738938 0.08370206 0.08554572 0.08554572 0.08001475 0.06526549\n",
            " 0.06342183 0.07079646 0.0689528  0.06710914 0.06342183 0.06342183\n",
            " 0.05789086 0.04682891 0.04129794 0.0339233  0.03945428 0.04314159\n",
            " 0.04129794 0.03687316 0.04129794 0.03761062 0.04314159 0.05235988\n",
            " 0.05235988 0.05420354 0.0689528  0.09292035 0.11320059 0.11688791\n",
            " 0.10766962 0.11688791 0.12241888 0.11688791 0.13716814 0.13532448\n",
            " 0.12979351 0.13163717 0.12610619 0.11873156 0.13163717 0.12426254\n",
            " 0.12979351 0.12979351 0.14454277 0.17772861 0.19616519 0.19063422\n",
            " 0.19985251 0.22935103 0.22382006 0.23119469 0.24410029 0.23119469\n",
            " 0.2570059  0.25331858 0.23856932 0.24225664 0.26253687 0.23672566\n",
            " 0.24778761 0.27175516 0.28281711 0.28281711 0.29572271 0.28834808\n",
            " 0.28834808 0.27912979 0.28097345 0.29572271 0.2920354  0.29941003\n",
            " 0.38974926 0.40634218 0.4100295  0.375      0.36762537 0.40634218\n",
            " 0.40818584 0.46533923 0.46902655 0.46165192 0.43980312 0.44886407\n",
            " 0.45322135 0.45454067 0.45420733 0.45312351 0.4518016  0.45050904\n",
            " 0.44938126 0.4484857  0.44785419 0.4474965  0.44740626 0.44756511\n",
            " 0.44794509 0.44851169 0.44922724 0.45005304]\n",
            "18 day output [[0.45095205]]\n",
            "19 day input [0.08370206 0.08554572 0.08554572 0.08001475 0.06526549 0.06342183\n",
            " 0.07079646 0.0689528  0.06710914 0.06342183 0.06342183 0.05789086\n",
            " 0.04682891 0.04129794 0.0339233  0.03945428 0.04314159 0.04129794\n",
            " 0.03687316 0.04129794 0.03761062 0.04314159 0.05235988 0.05235988\n",
            " 0.05420354 0.0689528  0.09292035 0.11320059 0.11688791 0.10766962\n",
            " 0.11688791 0.12241888 0.11688791 0.13716814 0.13532448 0.12979351\n",
            " 0.13163717 0.12610619 0.11873156 0.13163717 0.12426254 0.12979351\n",
            " 0.12979351 0.14454277 0.17772861 0.19616519 0.19063422 0.19985251\n",
            " 0.22935103 0.22382006 0.23119469 0.24410029 0.23119469 0.2570059\n",
            " 0.25331858 0.23856932 0.24225664 0.26253687 0.23672566 0.24778761\n",
            " 0.27175516 0.28281711 0.28281711 0.29572271 0.28834808 0.28834808\n",
            " 0.27912979 0.28097345 0.29572271 0.2920354  0.29941003 0.38974926\n",
            " 0.40634218 0.4100295  0.375      0.36762537 0.40634218 0.40818584\n",
            " 0.46533923 0.46902655 0.46165192 0.43980312 0.44886407 0.45322135\n",
            " 0.45454067 0.45420733 0.45312351 0.4518016  0.45050904 0.44938126\n",
            " 0.4484857  0.44785419 0.4474965  0.44740626 0.44756511 0.44794509\n",
            " 0.44851169 0.44922724 0.45005304 0.45095205]\n",
            "19 day output [[0.4518895]]\n",
            "20 day input [0.08554572 0.08554572 0.08001475 0.06526549 0.06342183 0.07079646\n",
            " 0.0689528  0.06710914 0.06342183 0.06342183 0.05789086 0.04682891\n",
            " 0.04129794 0.0339233  0.03945428 0.04314159 0.04129794 0.03687316\n",
            " 0.04129794 0.03761062 0.04314159 0.05235988 0.05235988 0.05420354\n",
            " 0.0689528  0.09292035 0.11320059 0.11688791 0.10766962 0.11688791\n",
            " 0.12241888 0.11688791 0.13716814 0.13532448 0.12979351 0.13163717\n",
            " 0.12610619 0.11873156 0.13163717 0.12426254 0.12979351 0.12979351\n",
            " 0.14454277 0.17772861 0.19616519 0.19063422 0.19985251 0.22935103\n",
            " 0.22382006 0.23119469 0.24410029 0.23119469 0.2570059  0.25331858\n",
            " 0.23856932 0.24225664 0.26253687 0.23672566 0.24778761 0.27175516\n",
            " 0.28281711 0.28281711 0.29572271 0.28834808 0.28834808 0.27912979\n",
            " 0.28097345 0.29572271 0.2920354  0.29941003 0.38974926 0.40634218\n",
            " 0.4100295  0.375      0.36762537 0.40634218 0.40818584 0.46533923\n",
            " 0.46902655 0.46165192 0.43980312 0.44886407 0.45322135 0.45454067\n",
            " 0.45420733 0.45312351 0.4518016  0.45050904 0.44938126 0.4484857\n",
            " 0.44785419 0.4474965  0.44740626 0.44756511 0.44794509 0.44851169\n",
            " 0.44922724 0.45005304 0.45095205 0.45188949]\n",
            "20 day output [[0.4528358]]\n",
            "21 day input [0.08554572 0.08001475 0.06526549 0.06342183 0.07079646 0.0689528\n",
            " 0.06710914 0.06342183 0.06342183 0.05789086 0.04682891 0.04129794\n",
            " 0.0339233  0.03945428 0.04314159 0.04129794 0.03687316 0.04129794\n",
            " 0.03761062 0.04314159 0.05235988 0.05235988 0.05420354 0.0689528\n",
            " 0.09292035 0.11320059 0.11688791 0.10766962 0.11688791 0.12241888\n",
            " 0.11688791 0.13716814 0.13532448 0.12979351 0.13163717 0.12610619\n",
            " 0.11873156 0.13163717 0.12426254 0.12979351 0.12979351 0.14454277\n",
            " 0.17772861 0.19616519 0.19063422 0.19985251 0.22935103 0.22382006\n",
            " 0.23119469 0.24410029 0.23119469 0.2570059  0.25331858 0.23856932\n",
            " 0.24225664 0.26253687 0.23672566 0.24778761 0.27175516 0.28281711\n",
            " 0.28281711 0.29572271 0.28834808 0.28834808 0.27912979 0.28097345\n",
            " 0.29572271 0.2920354  0.29941003 0.38974926 0.40634218 0.4100295\n",
            " 0.375      0.36762537 0.40634218 0.40818584 0.46533923 0.46902655\n",
            " 0.46165192 0.43980312 0.44886407 0.45322135 0.45454067 0.45420733\n",
            " 0.45312351 0.4518016  0.45050904 0.44938126 0.4484857  0.44785419\n",
            " 0.4474965  0.44740626 0.44756511 0.44794509 0.44851169 0.44922724\n",
            " 0.45005304 0.45095205 0.45188949 0.4528358 ]\n",
            "21 day output [[0.45376545]]\n",
            "22 day input [0.08001475 0.06526549 0.06342183 0.07079646 0.0689528  0.06710914\n",
            " 0.06342183 0.06342183 0.05789086 0.04682891 0.04129794 0.0339233\n",
            " 0.03945428 0.04314159 0.04129794 0.03687316 0.04129794 0.03761062\n",
            " 0.04314159 0.05235988 0.05235988 0.05420354 0.0689528  0.09292035\n",
            " 0.11320059 0.11688791 0.10766962 0.11688791 0.12241888 0.11688791\n",
            " 0.13716814 0.13532448 0.12979351 0.13163717 0.12610619 0.11873156\n",
            " 0.13163717 0.12426254 0.12979351 0.12979351 0.14454277 0.17772861\n",
            " 0.19616519 0.19063422 0.19985251 0.22935103 0.22382006 0.23119469\n",
            " 0.24410029 0.23119469 0.2570059  0.25331858 0.23856932 0.24225664\n",
            " 0.26253687 0.23672566 0.24778761 0.27175516 0.28281711 0.28281711\n",
            " 0.29572271 0.28834808 0.28834808 0.27912979 0.28097345 0.29572271\n",
            " 0.2920354  0.29941003 0.38974926 0.40634218 0.4100295  0.375\n",
            " 0.36762537 0.40634218 0.40818584 0.46533923 0.46902655 0.46165192\n",
            " 0.43980312 0.44886407 0.45322135 0.45454067 0.45420733 0.45312351\n",
            " 0.4518016  0.45050904 0.44938126 0.4484857  0.44785419 0.4474965\n",
            " 0.44740626 0.44756511 0.44794509 0.44851169 0.44922724 0.45005304\n",
            " 0.45095205 0.45188949 0.4528358  0.45376545]\n",
            "22 day output [[0.45465872]]\n",
            "23 day input [0.06526549 0.06342183 0.07079646 0.0689528  0.06710914 0.06342183\n",
            " 0.06342183 0.05789086 0.04682891 0.04129794 0.0339233  0.03945428\n",
            " 0.04314159 0.04129794 0.03687316 0.04129794 0.03761062 0.04314159\n",
            " 0.05235988 0.05235988 0.05420354 0.0689528  0.09292035 0.11320059\n",
            " 0.11688791 0.10766962 0.11688791 0.12241888 0.11688791 0.13716814\n",
            " 0.13532448 0.12979351 0.13163717 0.12610619 0.11873156 0.13163717\n",
            " 0.12426254 0.12979351 0.12979351 0.14454277 0.17772861 0.19616519\n",
            " 0.19063422 0.19985251 0.22935103 0.22382006 0.23119469 0.24410029\n",
            " 0.23119469 0.2570059  0.25331858 0.23856932 0.24225664 0.26253687\n",
            " 0.23672566 0.24778761 0.27175516 0.28281711 0.28281711 0.29572271\n",
            " 0.28834808 0.28834808 0.27912979 0.28097345 0.29572271 0.2920354\n",
            " 0.29941003 0.38974926 0.40634218 0.4100295  0.375      0.36762537\n",
            " 0.40634218 0.40818584 0.46533923 0.46902655 0.46165192 0.43980312\n",
            " 0.44886407 0.45322135 0.45454067 0.45420733 0.45312351 0.4518016\n",
            " 0.45050904 0.44938126 0.4484857  0.44785419 0.4474965  0.44740626\n",
            " 0.44756511 0.44794509 0.44851169 0.44922724 0.45005304 0.45095205\n",
            " 0.45188949 0.4528358  0.45376545 0.45465872]\n",
            "23 day output [[0.45550087]]\n",
            "24 day input [0.06342183 0.07079646 0.0689528  0.06710914 0.06342183 0.06342183\n",
            " 0.05789086 0.04682891 0.04129794 0.0339233  0.03945428 0.04314159\n",
            " 0.04129794 0.03687316 0.04129794 0.03761062 0.04314159 0.05235988\n",
            " 0.05235988 0.05420354 0.0689528  0.09292035 0.11320059 0.11688791\n",
            " 0.10766962 0.11688791 0.12241888 0.11688791 0.13716814 0.13532448\n",
            " 0.12979351 0.13163717 0.12610619 0.11873156 0.13163717 0.12426254\n",
            " 0.12979351 0.12979351 0.14454277 0.17772861 0.19616519 0.19063422\n",
            " 0.19985251 0.22935103 0.22382006 0.23119469 0.24410029 0.23119469\n",
            " 0.2570059  0.25331858 0.23856932 0.24225664 0.26253687 0.23672566\n",
            " 0.24778761 0.27175516 0.28281711 0.28281711 0.29572271 0.28834808\n",
            " 0.28834808 0.27912979 0.28097345 0.29572271 0.2920354  0.29941003\n",
            " 0.38974926 0.40634218 0.4100295  0.375      0.36762537 0.40634218\n",
            " 0.40818584 0.46533923 0.46902655 0.46165192 0.43980312 0.44886407\n",
            " 0.45322135 0.45454067 0.45420733 0.45312351 0.4518016  0.45050904\n",
            " 0.44938126 0.4484857  0.44785419 0.4474965  0.44740626 0.44756511\n",
            " 0.44794509 0.44851169 0.44922724 0.45005304 0.45095205 0.45188949\n",
            " 0.4528358  0.45376545 0.45465872 0.45550087]\n",
            "24 day output [[0.45628202]]\n",
            "25 day input [0.07079646 0.0689528  0.06710914 0.06342183 0.06342183 0.05789086\n",
            " 0.04682891 0.04129794 0.0339233  0.03945428 0.04314159 0.04129794\n",
            " 0.03687316 0.04129794 0.03761062 0.04314159 0.05235988 0.05235988\n",
            " 0.05420354 0.0689528  0.09292035 0.11320059 0.11688791 0.10766962\n",
            " 0.11688791 0.12241888 0.11688791 0.13716814 0.13532448 0.12979351\n",
            " 0.13163717 0.12610619 0.11873156 0.13163717 0.12426254 0.12979351\n",
            " 0.12979351 0.14454277 0.17772861 0.19616519 0.19063422 0.19985251\n",
            " 0.22935103 0.22382006 0.23119469 0.24410029 0.23119469 0.2570059\n",
            " 0.25331858 0.23856932 0.24225664 0.26253687 0.23672566 0.24778761\n",
            " 0.27175516 0.28281711 0.28281711 0.29572271 0.28834808 0.28834808\n",
            " 0.27912979 0.28097345 0.29572271 0.2920354  0.29941003 0.38974926\n",
            " 0.40634218 0.4100295  0.375      0.36762537 0.40634218 0.40818584\n",
            " 0.46533923 0.46902655 0.46165192 0.43980312 0.44886407 0.45322135\n",
            " 0.45454067 0.45420733 0.45312351 0.4518016  0.45050904 0.44938126\n",
            " 0.4484857  0.44785419 0.4474965  0.44740626 0.44756511 0.44794509\n",
            " 0.44851169 0.44922724 0.45005304 0.45095205 0.45188949 0.4528358\n",
            " 0.45376545 0.45465872 0.45550087 0.45628202]\n",
            "25 day output [[0.45699707]]\n",
            "26 day input [0.0689528  0.06710914 0.06342183 0.06342183 0.05789086 0.04682891\n",
            " 0.04129794 0.0339233  0.03945428 0.04314159 0.04129794 0.03687316\n",
            " 0.04129794 0.03761062 0.04314159 0.05235988 0.05235988 0.05420354\n",
            " 0.0689528  0.09292035 0.11320059 0.11688791 0.10766962 0.11688791\n",
            " 0.12241888 0.11688791 0.13716814 0.13532448 0.12979351 0.13163717\n",
            " 0.12610619 0.11873156 0.13163717 0.12426254 0.12979351 0.12979351\n",
            " 0.14454277 0.17772861 0.19616519 0.19063422 0.19985251 0.22935103\n",
            " 0.22382006 0.23119469 0.24410029 0.23119469 0.2570059  0.25331858\n",
            " 0.23856932 0.24225664 0.26253687 0.23672566 0.24778761 0.27175516\n",
            " 0.28281711 0.28281711 0.29572271 0.28834808 0.28834808 0.27912979\n",
            " 0.28097345 0.29572271 0.2920354  0.29941003 0.38974926 0.40634218\n",
            " 0.4100295  0.375      0.36762537 0.40634218 0.40818584 0.46533923\n",
            " 0.46902655 0.46165192 0.43980312 0.44886407 0.45322135 0.45454067\n",
            " 0.45420733 0.45312351 0.4518016  0.45050904 0.44938126 0.4484857\n",
            " 0.44785419 0.4474965  0.44740626 0.44756511 0.44794509 0.44851169\n",
            " 0.44922724 0.45005304 0.45095205 0.45188949 0.4528358  0.45376545\n",
            " 0.45465872 0.45550087 0.45628202 0.45699707]\n",
            "26 day output [[0.4576445]]\n",
            "27 day input [0.06710914 0.06342183 0.06342183 0.05789086 0.04682891 0.04129794\n",
            " 0.0339233  0.03945428 0.04314159 0.04129794 0.03687316 0.04129794\n",
            " 0.03761062 0.04314159 0.05235988 0.05235988 0.05420354 0.0689528\n",
            " 0.09292035 0.11320059 0.11688791 0.10766962 0.11688791 0.12241888\n",
            " 0.11688791 0.13716814 0.13532448 0.12979351 0.13163717 0.12610619\n",
            " 0.11873156 0.13163717 0.12426254 0.12979351 0.12979351 0.14454277\n",
            " 0.17772861 0.19616519 0.19063422 0.19985251 0.22935103 0.22382006\n",
            " 0.23119469 0.24410029 0.23119469 0.2570059  0.25331858 0.23856932\n",
            " 0.24225664 0.26253687 0.23672566 0.24778761 0.27175516 0.28281711\n",
            " 0.28281711 0.29572271 0.28834808 0.28834808 0.27912979 0.28097345\n",
            " 0.29572271 0.2920354  0.29941003 0.38974926 0.40634218 0.4100295\n",
            " 0.375      0.36762537 0.40634218 0.40818584 0.46533923 0.46902655\n",
            " 0.46165192 0.43980312 0.44886407 0.45322135 0.45454067 0.45420733\n",
            " 0.45312351 0.4518016  0.45050904 0.44938126 0.4484857  0.44785419\n",
            " 0.4474965  0.44740626 0.44756511 0.44794509 0.44851169 0.44922724\n",
            " 0.45005304 0.45095205 0.45188949 0.4528358  0.45376545 0.45465872\n",
            " 0.45550087 0.45628202 0.45699707 0.45764449]\n",
            "27 day output [[0.45822614]]\n",
            "28 day input [0.06342183 0.06342183 0.05789086 0.04682891 0.04129794 0.0339233\n",
            " 0.03945428 0.04314159 0.04129794 0.03687316 0.04129794 0.03761062\n",
            " 0.04314159 0.05235988 0.05235988 0.05420354 0.0689528  0.09292035\n",
            " 0.11320059 0.11688791 0.10766962 0.11688791 0.12241888 0.11688791\n",
            " 0.13716814 0.13532448 0.12979351 0.13163717 0.12610619 0.11873156\n",
            " 0.13163717 0.12426254 0.12979351 0.12979351 0.14454277 0.17772861\n",
            " 0.19616519 0.19063422 0.19985251 0.22935103 0.22382006 0.23119469\n",
            " 0.24410029 0.23119469 0.2570059  0.25331858 0.23856932 0.24225664\n",
            " 0.26253687 0.23672566 0.24778761 0.27175516 0.28281711 0.28281711\n",
            " 0.29572271 0.28834808 0.28834808 0.27912979 0.28097345 0.29572271\n",
            " 0.2920354  0.29941003 0.38974926 0.40634218 0.4100295  0.375\n",
            " 0.36762537 0.40634218 0.40818584 0.46533923 0.46902655 0.46165192\n",
            " 0.43980312 0.44886407 0.45322135 0.45454067 0.45420733 0.45312351\n",
            " 0.4518016  0.45050904 0.44938126 0.4484857  0.44785419 0.4474965\n",
            " 0.44740626 0.44756511 0.44794509 0.44851169 0.44922724 0.45005304\n",
            " 0.45095205 0.45188949 0.4528358  0.45376545 0.45465872 0.45550087\n",
            " 0.45628202 0.45699707 0.45764449 0.45822614]\n",
            "28 day output [[0.45874658]]\n",
            "29 day input [0.06342183 0.05789086 0.04682891 0.04129794 0.0339233  0.03945428\n",
            " 0.04314159 0.04129794 0.03687316 0.04129794 0.03761062 0.04314159\n",
            " 0.05235988 0.05235988 0.05420354 0.0689528  0.09292035 0.11320059\n",
            " 0.11688791 0.10766962 0.11688791 0.12241888 0.11688791 0.13716814\n",
            " 0.13532448 0.12979351 0.13163717 0.12610619 0.11873156 0.13163717\n",
            " 0.12426254 0.12979351 0.12979351 0.14454277 0.17772861 0.19616519\n",
            " 0.19063422 0.19985251 0.22935103 0.22382006 0.23119469 0.24410029\n",
            " 0.23119469 0.2570059  0.25331858 0.23856932 0.24225664 0.26253687\n",
            " 0.23672566 0.24778761 0.27175516 0.28281711 0.28281711 0.29572271\n",
            " 0.28834808 0.28834808 0.27912979 0.28097345 0.29572271 0.2920354\n",
            " 0.29941003 0.38974926 0.40634218 0.4100295  0.375      0.36762537\n",
            " 0.40634218 0.40818584 0.46533923 0.46902655 0.46165192 0.43980312\n",
            " 0.44886407 0.45322135 0.45454067 0.45420733 0.45312351 0.4518016\n",
            " 0.45050904 0.44938126 0.4484857  0.44785419 0.4474965  0.44740626\n",
            " 0.44756511 0.44794509 0.44851169 0.44922724 0.45005304 0.45095205\n",
            " 0.45188949 0.4528358  0.45376545 0.45465872 0.45550087 0.45628202\n",
            " 0.45699707 0.45764449 0.45822614 0.45874658]\n",
            "29 day output [[0.45921162]]\n",
            "[[0.4398031234741211], [0.44886407256126404], [0.4532213509082794], [0.4545406699180603], [0.45420733094215393], [0.4531235098838806], [0.451801598072052], [0.45050904154777527], [0.4493812620639801], [0.44848570227622986], [0.4478541910648346], [0.4474965035915375], [0.44740626215934753], [0.44756510853767395], [0.44794508814811707], [0.44851168990135193], [0.4492272436618805], [0.45005303621292114], [0.45095205307006836], [0.4518894851207733], [0.4528357982635498], [0.4537654519081116], [0.45465871691703796], [0.45550087094306946], [0.45628201961517334], [0.4569970667362213], [0.4576444923877716], [0.45822614431381226], [0.4587465822696686], [0.4592116177082062]]\n"
          ],
          "name": "stdout"
        }
      ]
    },
    {
      "cell_type": "code",
      "metadata": {
        "id": "lexdchB_ONbt"
      },
      "source": [
        "day_new=np.arange(1,101)\r\n",
        "day_pred=np.arange(101,131)"
      ],
      "execution_count": 95,
      "outputs": []
    },
    {
      "cell_type": "code",
      "metadata": {
        "colab": {
          "base_uri": "https://localhost:8080/",
          "height": 282
        },
        "id": "tqHlIdBjV2_f",
        "outputId": "7c4bd79e-f6b8-4dd1-db99-bd43bba54f4a"
      },
      "source": [
        "plt.plot(day_new,scaler.inverse_transform(df[len(df)-n_steps:]))\r\n",
        "plt.plot(day_pred,scaler.inverse_transform(lst_output))"
      ],
      "execution_count": 96,
      "outputs": [
        {
          "output_type": "execute_result",
          "data": {
            "text/plain": [
              "[<matplotlib.lines.Line2D at 0x7fb4acec7390>]"
            ]
          },
          "metadata": {
            "tags": []
          },
          "execution_count": 96
        },
        {
          "output_type": "display_data",
          "data": {
            "image/png": "[encoded data removed]",
            "text/plain": [
              "<Figure size 432x288 with 1 Axes>"
            ]
          },
          "metadata": {
            "tags": [],
            "needs_background": "light"
          }
        }
      ]
    },
    {
      "cell_type": "code",
      "metadata": {
        "id": "sXY9AiLdOONK"
      },
      "source": [
        "df=df.tolist()\r\n",
        "df.extend(lst_output)\r\n",
        "df=scaler.inverse_transform(df).tolist()"
      ],
      "execution_count": 97,
      "outputs": []
    },
    {
      "cell_type": "code",
      "metadata": {
        "colab": {
          "base_uri": "https://localhost:8080/",
          "height": 282
        },
        "id": "4jsnwj1qQjLD",
        "outputId": "b5eed90f-bda8-496d-a008-566cf74aa800"
      },
      "source": [
        "plt.plot(df[:])"
      ],
      "execution_count": 98,
      "outputs": [
        {
          "output_type": "execute_result",
          "data": {
            "text/plain": [
              "[<matplotlib.lines.Line2D at 0x7fb4acdf8198>]"
            ]
          },
          "metadata": {
            "tags": []
          },
          "execution_count": 98
        },
        {
          "output_type": "display_data",
          "data": {
            "image/png": "[encoded data removed]",
            "text/plain": [
              "<Figure size 432x288 with 1 Axes>"
            ]
          },
          "metadata": {
            "tags": [],
            "needs_background": "light"
          }
        }
      ]
    },
    {
      "cell_type": "code",
      "metadata": {
        "colab": {
          "base_uri": "https://localhost:8080/",
          "height": 282
        },
        "id": "TaRABwynQbwv",
        "outputId": "f3857f05-44a0-40b8-90f5-98e83941fb09"
      },
      "source": [
        "plt.plot(df)"
      ],
      "execution_count": 99,
      "outputs": [
        {
          "output_type": "execute_result",
          "data": {
            "text/plain": [
              "[<matplotlib.lines.Line2D at 0x7fb4acd00358>]"
            ]
          },
          "metadata": {
            "tags": []
          },
          "execution_count": 99
        },
        {
          "output_type": "display_data",
          "data": {
            "image/png": "[encoded data removed]",
            "text/plain": [
              "<Figure size 432x288 with 1 Axes>"
            ]
          },
          "metadata": {
            "tags": [],
            "needs_background": "light"
          }
        }
      ]
    }
  ]
}